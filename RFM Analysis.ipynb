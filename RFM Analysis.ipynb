{
 "cells": [
  {
   "cell_type": "markdown",
   "metadata": {},
   "source": [
    "# Customer Segmentation using RFM analysis\n",
    "\n",
    "This data can get from Kaggle https://www.kaggle.com/datasets/shedai/retail-data-set\n",
    "\n",
    "#### Customer Segmentation\n",
    "\n",
    "Customer segmentation is a method of dividing customers into groups or clusters on the basis of common characteristics. The market researcher can segment customers using various approach, such as:\n",
    "1. Demographic characteristics : occupation, gender, age and marital status.\n",
    "2. Geographic characteristics : location, region, urban/rural\n",
    "3. Psychographic characteristics : social class, lifestyle and personality characteristics \n",
    "4. Behavioral characteristics : spending, consumption habits, product/service usage, and previously purchased products\n",
    "\n",
    "Here are some of the main benefits of customer segmentation:\n",
    "- It will help in identifying the most potential customers.\n",
    "- It will help managers to easily communicate with a targetted group of the audience.\n",
    "- Improve customer relationship via better understanding needs of segments.\n",
    "- It provides opportunities for upselling and cross-selling.\n",
    "- It will help managers to design special offers for targetted customers, to encourage them to buy more products.\n",
    "- It also helps in identifying new products that customers could be interested in."
   ]
  },
  {
   "cell_type": "markdown",
   "metadata": {},
   "source": [
    "#### RFM Analysis\n",
    "RFM (Recency, Frequency, Monetary) analysis is a behavior-based approach grouping customers into segments. It groups the customers on the basis of their previous purchase transactions. RFM analysis focuses on 3 main aspects of customers transactions: recency, frequency and purchase amount. RFM filters customers into various groups for the purpose of better service. It helps managers to identify potential customers to do more profitable businesss and to run an effective promotional campaign for personalized service.\n",
    "\n",
    "- Recency (R): Who have purchased recently? Number of days since last purchase (least recency)\n",
    "- Frequency (F): Who has purchased frequently? It means the total number of purchases. ( high frequency)\n",
    "- Monetary Value(M): Who have high purchase amount? It means the total money customer spent (high monetary value)"
   ]
  },
  {
   "cell_type": "code",
   "execution_count": 1,
   "metadata": {},
   "outputs": [],
   "source": [
    "import numpy as np\n",
    "import pandas as pd\n",
    "from matplotlib import pyplot as plt\n",
    "import seaborn as sns"
   ]
  },
  {
   "cell_type": "code",
   "execution_count": 2,
   "metadata": {},
   "outputs": [
    {
     "data": {
      "text/html": [
       "<div>\n",
       "<style scoped>\n",
       "    .dataframe tbody tr th:only-of-type {\n",
       "        vertical-align: middle;\n",
       "    }\n",
       "\n",
       "    .dataframe tbody tr th {\n",
       "        vertical-align: top;\n",
       "    }\n",
       "\n",
       "    .dataframe thead th {\n",
       "        text-align: right;\n",
       "    }\n",
       "</style>\n",
       "<table border=\"1\" class=\"dataframe\">\n",
       "  <thead>\n",
       "    <tr style=\"text-align: right;\">\n",
       "      <th></th>\n",
       "      <th>Unnamed: 0</th>\n",
       "      <th>InvoiceID</th>\n",
       "      <th>Date</th>\n",
       "      <th>ProductID</th>\n",
       "      <th>TotalSales</th>\n",
       "      <th>Discount</th>\n",
       "      <th>CustomerID</th>\n",
       "      <th>Quantity</th>\n",
       "    </tr>\n",
       "  </thead>\n",
       "  <tbody>\n",
       "    <tr>\n",
       "      <th>0</th>\n",
       "      <td>0</td>\n",
       "      <td>328</td>\n",
       "      <td>2019-12-27</td>\n",
       "      <td>1684</td>\n",
       "      <td>796.610169</td>\n",
       "      <td>143.389831</td>\n",
       "      <td>185</td>\n",
       "      <td>4</td>\n",
       "    </tr>\n",
       "    <tr>\n",
       "      <th>1</th>\n",
       "      <td>1</td>\n",
       "      <td>329</td>\n",
       "      <td>2019-12-27</td>\n",
       "      <td>524</td>\n",
       "      <td>355.932203</td>\n",
       "      <td>64.067797</td>\n",
       "      <td>185</td>\n",
       "      <td>2</td>\n",
       "    </tr>\n",
       "    <tr>\n",
       "      <th>2</th>\n",
       "      <td>2</td>\n",
       "      <td>330</td>\n",
       "      <td>2019-12-27</td>\n",
       "      <td>192</td>\n",
       "      <td>901.694915</td>\n",
       "      <td>162.305085</td>\n",
       "      <td>230</td>\n",
       "      <td>4</td>\n",
       "    </tr>\n",
       "    <tr>\n",
       "      <th>3</th>\n",
       "      <td>3</td>\n",
       "      <td>330</td>\n",
       "      <td>2019-12-27</td>\n",
       "      <td>218</td>\n",
       "      <td>182.754237</td>\n",
       "      <td>32.895763</td>\n",
       "      <td>230</td>\n",
       "      <td>1</td>\n",
       "    </tr>\n",
       "    <tr>\n",
       "      <th>4</th>\n",
       "      <td>4</td>\n",
       "      <td>330</td>\n",
       "      <td>2019-12-27</td>\n",
       "      <td>247</td>\n",
       "      <td>780.101695</td>\n",
       "      <td>140.418305</td>\n",
       "      <td>230</td>\n",
       "      <td>4</td>\n",
       "    </tr>\n",
       "  </tbody>\n",
       "</table>\n",
       "</div>"
      ],
      "text/plain": [
       "   Unnamed: 0  InvoiceID        Date  ProductID  TotalSales    Discount  \\\n",
       "0           0        328  2019-12-27       1684  796.610169  143.389831   \n",
       "1           1        329  2019-12-27        524  355.932203   64.067797   \n",
       "2           2        330  2019-12-27        192  901.694915  162.305085   \n",
       "3           3        330  2019-12-27        218  182.754237   32.895763   \n",
       "4           4        330  2019-12-27        247  780.101695  140.418305   \n",
       "\n",
       "   CustomerID  Quantity  \n",
       "0         185         4  \n",
       "1         185         2  \n",
       "2         230         4  \n",
       "3         230         1  \n",
       "4         230         4  "
      ]
     },
     "execution_count": 2,
     "metadata": {},
     "output_type": "execute_result"
    }
   ],
   "source": [
    "df = pd.read_csv('file_out2.csv')\n",
    "df.head()"
   ]
  },
  {
   "cell_type": "code",
   "execution_count": 3,
   "metadata": {},
   "outputs": [
    {
     "data": {
      "text/plain": [
       "Unnamed: 0    0\n",
       "InvoiceID     0\n",
       "Date          0\n",
       "ProductID     0\n",
       "TotalSales    0\n",
       "Discount      0\n",
       "CustomerID    0\n",
       "Quantity      0\n",
       "dtype: int64"
      ]
     },
     "execution_count": 3,
     "metadata": {},
     "output_type": "execute_result"
    }
   ],
   "source": [
    "df.isna().sum()"
   ]
  },
  {
   "cell_type": "code",
   "execution_count": 4,
   "metadata": {},
   "outputs": [
    {
     "data": {
      "text/plain": [
       "0"
      ]
     },
     "execution_count": 4,
     "metadata": {},
     "output_type": "execute_result"
    }
   ],
   "source": [
    "df.duplicated().sum()"
   ]
  },
  {
   "cell_type": "code",
   "execution_count": 5,
   "metadata": {},
   "outputs": [
    {
     "data": {
      "text/plain": [
       "Unnamed: 0      int64\n",
       "InvoiceID       int64\n",
       "Date           object\n",
       "ProductID       int64\n",
       "TotalSales    float64\n",
       "Discount      float64\n",
       "CustomerID      int64\n",
       "Quantity        int64\n",
       "dtype: object"
      ]
     },
     "execution_count": 5,
     "metadata": {},
     "output_type": "execute_result"
    }
   ],
   "source": [
    "df.dtypes"
   ]
  },
  {
   "cell_type": "code",
   "execution_count": 6,
   "metadata": {},
   "outputs": [],
   "source": [
    "df['Date'] = pd.to_datetime(df['Date'])"
   ]
  },
  {
   "cell_type": "code",
   "execution_count": 7,
   "metadata": {},
   "outputs": [],
   "source": [
    "df = df.drop(['Unnamed: 0'], axis=1)"
   ]
  },
  {
   "cell_type": "code",
   "execution_count": 8,
   "metadata": {},
   "outputs": [
    {
     "data": {
      "text/plain": [
       "(29103, 7)"
      ]
     },
     "execution_count": 8,
     "metadata": {},
     "output_type": "execute_result"
    }
   ],
   "source": [
    "df.shape"
   ]
  },
  {
   "cell_type": "code",
   "execution_count": 9,
   "metadata": {},
   "outputs": [
    {
     "data": {
      "text/html": [
       "<div>\n",
       "<style scoped>\n",
       "    .dataframe tbody tr th:only-of-type {\n",
       "        vertical-align: middle;\n",
       "    }\n",
       "\n",
       "    .dataframe tbody tr th {\n",
       "        vertical-align: top;\n",
       "    }\n",
       "\n",
       "    .dataframe thead th {\n",
       "        text-align: right;\n",
       "    }\n",
       "</style>\n",
       "<table border=\"1\" class=\"dataframe\">\n",
       "  <thead>\n",
       "    <tr style=\"text-align: right;\">\n",
       "      <th></th>\n",
       "      <th>InvoiceID</th>\n",
       "      <th>Date</th>\n",
       "      <th>ProductID</th>\n",
       "      <th>TotalSales</th>\n",
       "      <th>Discount</th>\n",
       "      <th>CustomerID</th>\n",
       "      <th>Quantity</th>\n",
       "    </tr>\n",
       "  </thead>\n",
       "  <tbody>\n",
       "    <tr>\n",
       "      <th>0</th>\n",
       "      <td>328</td>\n",
       "      <td>2019-12-27</td>\n",
       "      <td>1684</td>\n",
       "      <td>796.610169</td>\n",
       "      <td>143.389831</td>\n",
       "      <td>185</td>\n",
       "      <td>4</td>\n",
       "    </tr>\n",
       "    <tr>\n",
       "      <th>1</th>\n",
       "      <td>329</td>\n",
       "      <td>2019-12-27</td>\n",
       "      <td>524</td>\n",
       "      <td>355.932203</td>\n",
       "      <td>64.067797</td>\n",
       "      <td>185</td>\n",
       "      <td>2</td>\n",
       "    </tr>\n",
       "    <tr>\n",
       "      <th>2</th>\n",
       "      <td>330</td>\n",
       "      <td>2019-12-27</td>\n",
       "      <td>192</td>\n",
       "      <td>901.694915</td>\n",
       "      <td>162.305085</td>\n",
       "      <td>230</td>\n",
       "      <td>4</td>\n",
       "    </tr>\n",
       "    <tr>\n",
       "      <th>3</th>\n",
       "      <td>330</td>\n",
       "      <td>2019-12-27</td>\n",
       "      <td>218</td>\n",
       "      <td>182.754237</td>\n",
       "      <td>32.895763</td>\n",
       "      <td>230</td>\n",
       "      <td>1</td>\n",
       "    </tr>\n",
       "    <tr>\n",
       "      <th>4</th>\n",
       "      <td>330</td>\n",
       "      <td>2019-12-27</td>\n",
       "      <td>247</td>\n",
       "      <td>780.101695</td>\n",
       "      <td>140.418305</td>\n",
       "      <td>230</td>\n",
       "      <td>4</td>\n",
       "    </tr>\n",
       "  </tbody>\n",
       "</table>\n",
       "</div>"
      ],
      "text/plain": [
       "   InvoiceID       Date  ProductID  TotalSales    Discount  CustomerID  \\\n",
       "0        328 2019-12-27       1684  796.610169  143.389831         185   \n",
       "1        329 2019-12-27        524  355.932203   64.067797         185   \n",
       "2        330 2019-12-27        192  901.694915  162.305085         230   \n",
       "3        330 2019-12-27        218  182.754237   32.895763         230   \n",
       "4        330 2019-12-27        247  780.101695  140.418305         230   \n",
       "\n",
       "   Quantity  \n",
       "0         4  \n",
       "1         2  \n",
       "2         4  \n",
       "3         1  \n",
       "4         4  "
      ]
     },
     "execution_count": 9,
     "metadata": {},
     "output_type": "execute_result"
    }
   ],
   "source": [
    "df.head()"
   ]
  },
  {
   "cell_type": "code",
   "execution_count": 10,
   "metadata": {},
   "outputs": [
    {
     "data": {
      "text/plain": [
       "Timestamp('2019-01-02 00:00:00')"
      ]
     },
     "execution_count": 10,
     "metadata": {},
     "output_type": "execute_result"
    }
   ],
   "source": [
    "df['Date'].min()"
   ]
  },
  {
   "cell_type": "code",
   "execution_count": 11,
   "metadata": {},
   "outputs": [
    {
     "data": {
      "text/plain": [
       "Timestamp('2023-03-25 00:00:00')"
      ]
     },
     "execution_count": 11,
     "metadata": {},
     "output_type": "execute_result"
    }
   ],
   "source": [
    "df['Date'].max()"
   ]
  },
  {
   "cell_type": "code",
   "execution_count": 12,
   "metadata": {},
   "outputs": [
    {
     "data": {
      "text/plain": [
       "datetime.datetime(2023, 3, 25, 0, 0)"
      ]
     },
     "execution_count": 12,
     "metadata": {},
     "output_type": "execute_result"
    }
   ],
   "source": [
    "#set date to current day\n",
    "import datetime as dt\n",
    "Now = dt.datetime(2023,3,25)\n",
    "Now"
   ]
  },
  {
   "cell_type": "code",
   "execution_count": 13,
   "metadata": {},
   "outputs": [
    {
     "data": {
      "text/html": [
       "<div>\n",
       "<style scoped>\n",
       "    .dataframe tbody tr th:only-of-type {\n",
       "        vertical-align: middle;\n",
       "    }\n",
       "\n",
       "    .dataframe tbody tr th {\n",
       "        vertical-align: top;\n",
       "    }\n",
       "\n",
       "    .dataframe thead th {\n",
       "        text-align: right;\n",
       "    }\n",
       "</style>\n",
       "<table border=\"1\" class=\"dataframe\">\n",
       "  <thead>\n",
       "    <tr style=\"text-align: right;\">\n",
       "      <th></th>\n",
       "      <th>Recency</th>\n",
       "    </tr>\n",
       "    <tr>\n",
       "      <th>CustomerID</th>\n",
       "      <th></th>\n",
       "    </tr>\n",
       "  </thead>\n",
       "  <tbody>\n",
       "    <tr>\n",
       "      <th>307</th>\n",
       "      <td>0</td>\n",
       "    </tr>\n",
       "    <tr>\n",
       "      <th>190</th>\n",
       "      <td>0</td>\n",
       "    </tr>\n",
       "    <tr>\n",
       "      <th>21</th>\n",
       "      <td>0</td>\n",
       "    </tr>\n",
       "    <tr>\n",
       "      <th>222</th>\n",
       "      <td>0</td>\n",
       "    </tr>\n",
       "    <tr>\n",
       "      <th>185</th>\n",
       "      <td>0</td>\n",
       "    </tr>\n",
       "  </tbody>\n",
       "</table>\n",
       "</div>"
      ],
      "text/plain": [
       "            Recency\n",
       "CustomerID         \n",
       "307               0\n",
       "190               0\n",
       "21                0\n",
       "222               0\n",
       "185               0"
      ]
     },
     "execution_count": 13,
     "metadata": {},
     "output_type": "execute_result"
    }
   ],
   "source": [
    "#most recently\n",
    "recent_order = df.groupby(['CustomerID']).agg({'Date': lambda x: (Now - x.max()).days}).sort_values('Date').rename(columns={'Date':'Recency'})\n",
    "recent_order.head()"
   ]
  },
  {
   "cell_type": "code",
   "execution_count": 14,
   "metadata": {},
   "outputs": [
    {
     "data": {
      "text/html": [
       "<div>\n",
       "<style scoped>\n",
       "    .dataframe tbody tr th:only-of-type {\n",
       "        vertical-align: middle;\n",
       "    }\n",
       "\n",
       "    .dataframe tbody tr th {\n",
       "        vertical-align: top;\n",
       "    }\n",
       "\n",
       "    .dataframe thead th {\n",
       "        text-align: right;\n",
       "    }\n",
       "</style>\n",
       "<table border=\"1\" class=\"dataframe\">\n",
       "  <thead>\n",
       "    <tr style=\"text-align: right;\">\n",
       "      <th></th>\n",
       "      <th>total_order</th>\n",
       "    </tr>\n",
       "    <tr>\n",
       "      <th>CustomerID</th>\n",
       "      <th></th>\n",
       "    </tr>\n",
       "  </thead>\n",
       "  <tbody>\n",
       "    <tr>\n",
       "      <th>230</th>\n",
       "      <td>814</td>\n",
       "    </tr>\n",
       "    <tr>\n",
       "      <th>420</th>\n",
       "      <td>500</td>\n",
       "    </tr>\n",
       "    <tr>\n",
       "      <th>424</th>\n",
       "      <td>479</td>\n",
       "    </tr>\n",
       "    <tr>\n",
       "      <th>290</th>\n",
       "      <td>408</td>\n",
       "    </tr>\n",
       "    <tr>\n",
       "      <th>57</th>\n",
       "      <td>360</td>\n",
       "    </tr>\n",
       "  </tbody>\n",
       "</table>\n",
       "</div>"
      ],
      "text/plain": [
       "            total_order\n",
       "CustomerID             \n",
       "230                 814\n",
       "420                 500\n",
       "424                 479\n",
       "290                 408\n",
       "57                  360"
      ]
     },
     "execution_count": 14,
     "metadata": {},
     "output_type": "execute_result"
    }
   ],
   "source": [
    "#most frequent\n",
    "freq_pur = df.groupby(['CustomerID']).agg({'InvoiceID': 'nunique'}).sort_values('InvoiceID',\n",
    "                                                                                  ascending=False).rename(columns=\n",
    "                                                                                                          {'InvoiceID':'total_order'})\n",
    "freq_pur.head()"
   ]
  },
  {
   "cell_type": "code",
   "execution_count": 15,
   "metadata": {},
   "outputs": [
    {
     "data": {
      "text/html": [
       "<div>\n",
       "<style scoped>\n",
       "    .dataframe tbody tr th:only-of-type {\n",
       "        vertical-align: middle;\n",
       "    }\n",
       "\n",
       "    .dataframe tbody tr th {\n",
       "        vertical-align: top;\n",
       "    }\n",
       "\n",
       "    .dataframe thead th {\n",
       "        text-align: right;\n",
       "    }\n",
       "</style>\n",
       "<table border=\"1\" class=\"dataframe\">\n",
       "  <thead>\n",
       "    <tr style=\"text-align: right;\">\n",
       "      <th></th>\n",
       "      <th>Monetary</th>\n",
       "    </tr>\n",
       "    <tr>\n",
       "      <th>CustomerID</th>\n",
       "      <th></th>\n",
       "    </tr>\n",
       "  </thead>\n",
       "  <tbody>\n",
       "    <tr>\n",
       "      <th>230</th>\n",
       "      <td>4.520184e+06</td>\n",
       "    </tr>\n",
       "    <tr>\n",
       "      <th>420</th>\n",
       "      <td>3.203069e+06</td>\n",
       "    </tr>\n",
       "    <tr>\n",
       "      <th>57</th>\n",
       "      <td>3.088991e+06</td>\n",
       "    </tr>\n",
       "    <tr>\n",
       "      <th>375</th>\n",
       "      <td>2.094873e+06</td>\n",
       "    </tr>\n",
       "    <tr>\n",
       "      <th>52</th>\n",
       "      <td>1.633506e+06</td>\n",
       "    </tr>\n",
       "  </tbody>\n",
       "</table>\n",
       "</div>"
      ],
      "text/plain": [
       "                Monetary\n",
       "CustomerID              \n",
       "230         4.520184e+06\n",
       "420         3.203069e+06\n",
       "57          3.088991e+06\n",
       "375         2.094873e+06\n",
       "52          1.633506e+06"
      ]
     },
     "execution_count": 15,
     "metadata": {},
     "output_type": "execute_result"
    }
   ],
   "source": [
    "#spend the most\n",
    "loyal_cust = df.groupby(['CustomerID']).agg({'TotalSales': 'sum'}).sort_values('TotalSales',\n",
    "                                                                                  ascending=False).rename(columns=\n",
    "                                                                                                          {'TotalSales':'Monetary'})\n",
    "loyal_cust.head()"
   ]
  },
  {
   "cell_type": "markdown",
   "metadata": {},
   "source": [
    "#### RFM Table"
   ]
  },
  {
   "cell_type": "code",
   "execution_count": 16,
   "metadata": {},
   "outputs": [
    {
     "data": {
      "text/html": [
       "<div>\n",
       "<style scoped>\n",
       "    .dataframe tbody tr th:only-of-type {\n",
       "        vertical-align: middle;\n",
       "    }\n",
       "\n",
       "    .dataframe tbody tr th {\n",
       "        vertical-align: top;\n",
       "    }\n",
       "\n",
       "    .dataframe thead th {\n",
       "        text-align: right;\n",
       "    }\n",
       "</style>\n",
       "<table border=\"1\" class=\"dataframe\">\n",
       "  <thead>\n",
       "    <tr style=\"text-align: right;\">\n",
       "      <th></th>\n",
       "      <th>Recency</th>\n",
       "      <th>Frequency</th>\n",
       "      <th>Monetary_value</th>\n",
       "    </tr>\n",
       "    <tr>\n",
       "      <th>CustomerID</th>\n",
       "      <th></th>\n",
       "      <th></th>\n",
       "      <th></th>\n",
       "    </tr>\n",
       "  </thead>\n",
       "  <tbody>\n",
       "    <tr>\n",
       "      <th>0</th>\n",
       "      <td>7</td>\n",
       "      <td>37</td>\n",
       "      <td>263560.474577</td>\n",
       "    </tr>\n",
       "    <tr>\n",
       "      <th>1</th>\n",
       "      <td>735</td>\n",
       "      <td>13</td>\n",
       "      <td>20476.728814</td>\n",
       "    </tr>\n",
       "    <tr>\n",
       "      <th>2</th>\n",
       "      <td>52</td>\n",
       "      <td>22</td>\n",
       "      <td>51963.711862</td>\n",
       "    </tr>\n",
       "    <tr>\n",
       "      <th>3</th>\n",
       "      <td>625</td>\n",
       "      <td>1</td>\n",
       "      <td>300.847458</td>\n",
       "    </tr>\n",
       "    <tr>\n",
       "      <th>4</th>\n",
       "      <td>92</td>\n",
       "      <td>35</td>\n",
       "      <td>60977.720337</td>\n",
       "    </tr>\n",
       "  </tbody>\n",
       "</table>\n",
       "</div>"
      ],
      "text/plain": [
       "            Recency  Frequency  Monetary_value\n",
       "CustomerID                                    \n",
       "0                 7         37   263560.474577\n",
       "1               735         13    20476.728814\n",
       "2                52         22    51963.711862\n",
       "3               625          1      300.847458\n",
       "4                92         35    60977.720337"
      ]
     },
     "execution_count": 16,
     "metadata": {},
     "output_type": "execute_result"
    }
   ],
   "source": [
    "rfm_table = df.groupby(['CustomerID']).agg({'Date': lambda x: (Now - x.max()).days,\n",
    "                                            'InvoiceID': lambda x: len(x.unique()),\n",
    "                                            'TotalSales': lambda x: x.sum()})\n",
    "rfm_table['Date'] = rfm_table['Date'].astype(int)\n",
    "rfm_table.rename(columns={'Date':'Recency',\n",
    "                         'InvoiceID':'Frequency',\n",
    "                         'TotalSales':'Monetary_value'}, inplace=True)\n",
    "rfm_table.head()"
   ]
  },
  {
   "cell_type": "code",
   "execution_count": 17,
   "metadata": {},
   "outputs": [
    {
     "data": {
      "text/plain": [
       "Text(0, 0.5, 'Frequency')"
      ]
     },
     "execution_count": 17,
     "metadata": {},
     "output_type": "execute_result"
    },
    {
     "data": {
      "image/png": "[encoded data removed]",
      "text/plain": [
       "<Figure size 432x288 with 1 Axes>"
      ]
     },
     "metadata": {
      "needs_background": "light"
     },
     "output_type": "display_data"
    }
   ],
   "source": [
    "plt.scatter(rfm_table.groupby('CustomerID')['Recency'].sum(), df.groupby('CustomerID')['InvoiceID'].nunique(),\n",
    "            color = 'red',\n",
    "            marker = '*', alpha = 0.3)\n",
    "plt.title('Scatter Plot for Recency and Frequency') \n",
    "plt.xlabel('Recency')\n",
    "plt.ylabel('Frequency')"
   ]
  },
  {
   "cell_type": "markdown",
   "metadata": {},
   "source": [
    "We can see the customers whose Recency is less than 3 months have high Frequency, customers buying more when their recency is less"
   ]
  },
  {
   "cell_type": "code",
   "execution_count": 18,
   "metadata": {},
   "outputs": [
    {
     "data": {
      "text/plain": [
       "Text(0, 0.5, 'Frequency')"
      ]
     },
     "execution_count": 18,
     "metadata": {},
     "output_type": "execute_result"
    },
    {
     "data": {
      "image/png": "[encoded data removed]",
      "text/plain": [
       "<Figure size 432x288 with 1 Axes>"
      ]
     },
     "metadata": {
      "needs_background": "light"
     },
     "output_type": "display_data"
    }
   ],
   "source": [
    "#Frequency Vs Monetary\n",
    "\n",
    "market_data = df.groupby('CustomerID').agg({'InvoiceID':'nunique','TotalSales':'sum'})\n",
    "\n",
    "plt.scatter(market_data['TotalSales'], market_data['InvoiceID'],\n",
    "            color = 'red',\n",
    "            marker = '*', alpha = 0.3)\n",
    "\n",
    "plt.title('Scatter Plot for Monetary and Frequency')\n",
    "plt.xlabel('Monetary')\n",
    "plt.ylabel('Frequency')"
   ]
  },
  {
   "cell_type": "markdown",
   "metadata": {},
   "source": [
    "We can see, customers buying frequently are spending large amount"
   ]
  },
  {
   "cell_type": "code",
   "execution_count": 19,
   "metadata": {},
   "outputs": [
    {
     "data": {
      "text/plain": [
       "Text(0, 0.5, 'Frequency')"
      ]
     },
     "execution_count": 19,
     "metadata": {},
     "output_type": "execute_result"
    },
    {
     "data": {
      "image/png": "[encoded data removed]",
      "text/plain": [
       "<Figure size 432x288 with 1 Axes>"
      ]
     },
     "metadata": {
      "needs_background": "light"
     },
     "output_type": "display_data"
    }
   ],
   "source": [
    "#Recency Vs Frequency Vs Monetary\n",
    "\n",
    "Monetary = df.groupby('CustomerID')['TotalSales'].sum()\n",
    "plt.scatter(rfm_table.groupby('CustomerID')['Recency'].sum(), df.groupby('CustomerID')['InvoiceID'].nunique(),\n",
    "            marker = '*', alpha = 0.3,c=Monetary)\n",
    "\n",
    "plt.title('Scatter Plot for Recency and Frequency')\n",
    "plt.xlabel('Recency')\n",
    "plt.ylabel('Frequency')"
   ]
  },
  {
   "cell_type": "markdown",
   "metadata": {},
   "source": [
    "Now, in the above plot, the color specifies Monetary. From the above plot, we can say the customers whose Recency is less have high Frequency but less Monetary."
   ]
  },
  {
   "cell_type": "markdown",
   "metadata": {},
   "source": [
    "#### RFM Score\n",
    "We used Quintiles — based on the distribution of values in the data — to calculate the RFM score."
   ]
  },
  {
   "cell_type": "code",
   "execution_count": 20,
   "metadata": {},
   "outputs": [
    {
     "data": {
      "text/html": [
       "<div>\n",
       "<style scoped>\n",
       "    .dataframe tbody tr th:only-of-type {\n",
       "        vertical-align: middle;\n",
       "    }\n",
       "\n",
       "    .dataframe tbody tr th {\n",
       "        vertical-align: top;\n",
       "    }\n",
       "\n",
       "    .dataframe thead th {\n",
       "        text-align: right;\n",
       "    }\n",
       "</style>\n",
       "<table border=\"1\" class=\"dataframe\">\n",
       "  <thead>\n",
       "    <tr style=\"text-align: right;\">\n",
       "      <th></th>\n",
       "      <th>Recency</th>\n",
       "      <th>Frequency</th>\n",
       "      <th>Monetary_value</th>\n",
       "    </tr>\n",
       "  </thead>\n",
       "  <tbody>\n",
       "    <tr>\n",
       "      <th>0.25</th>\n",
       "      <td>29.0</td>\n",
       "      <td>1.0</td>\n",
       "      <td>1872.881356</td>\n",
       "    </tr>\n",
       "    <tr>\n",
       "      <th>0.50</th>\n",
       "      <td>243.0</td>\n",
       "      <td>4.0</td>\n",
       "      <td>10906.449152</td>\n",
       "    </tr>\n",
       "    <tr>\n",
       "      <th>0.75</th>\n",
       "      <td>933.0</td>\n",
       "      <td>35.0</td>\n",
       "      <td>90924.466100</td>\n",
       "    </tr>\n",
       "  </tbody>\n",
       "</table>\n",
       "</div>"
      ],
      "text/plain": [
       "      Recency  Frequency  Monetary_value\n",
       "0.25     29.0        1.0     1872.881356\n",
       "0.50    243.0        4.0    10906.449152\n",
       "0.75    933.0       35.0    90924.466100"
      ]
     },
     "execution_count": 20,
     "metadata": {},
     "output_type": "execute_result"
    }
   ],
   "source": [
    "#quantiles to calculate rfm score\n",
    "quantiles = rfm_table.quantile(q=[0.25,0.5,0.75])\n",
    "quantiles"
   ]
  },
  {
   "cell_type": "markdown",
   "metadata": {},
   "source": [
    "Based on the RFM Values, I have assigned a score to each customer between 1 and 4(bucketing them). 4 is the best score and 1 is the worst score.\n",
    "\n",
    "Ex: A Customer who bought most recently and most often, and spent the most, her RFM score is 444"
   ]
  },
  {
   "cell_type": "code",
   "execution_count": 21,
   "metadata": {},
   "outputs": [],
   "source": [
    "#rfm segmentation\n",
    "rfm_segment = rfm_table.copy()\n",
    "\n",
    "#x=value, p=recency,monetary,freq, k=quartiles dict\n",
    "def R_Class(x,p,d):\n",
    "    if x <= d[p][0.25]:\n",
    "        return 4\n",
    "    elif x <= d[p][0.50]:\n",
    "        return 3\n",
    "    elif x <= d[p][0.75]:\n",
    "        return 2\n",
    "    else:\n",
    "        return 1\n",
    "    \n",
    "def FM_Class(x,p,d):\n",
    "    if x <= d[p][0.25]:\n",
    "        return 1\n",
    "    elif x <= d[p][0.50]:\n",
    "        return 2\n",
    "    elif x <= d[p][0.75]:\n",
    "        return 3\n",
    "    else:\n",
    "        return 4\n",
    "    \n",
    "rfm_segment['R_Quartile'] = rfm_segment['Recency'].apply(R_Class, args=('Recency',quantiles,))\n",
    "rfm_segment['F_Quartile'] = rfm_segment['Frequency'].apply(FM_Class, args=('Frequency',quantiles,))\n",
    "rfm_segment['M_Quartile'] = rfm_segment['Monetary_value'].apply(FM_Class, args=('Monetary_value',quantiles,))\n",
    "\n",
    "rfm_segment['RFMClass'] = rfm_segment.R_Quartile.map(str) \\\n",
    "                        + rfm_segment.F_Quartile.map(str) \\\n",
    "                        + rfm_segment.M_Quartile.map(str)"
   ]
  },
  {
   "cell_type": "code",
   "execution_count": 22,
   "metadata": {},
   "outputs": [
    {
     "data": {
      "text/html": [
       "<div>\n",
       "<style scoped>\n",
       "    .dataframe tbody tr th:only-of-type {\n",
       "        vertical-align: middle;\n",
       "    }\n",
       "\n",
       "    .dataframe tbody tr th {\n",
       "        vertical-align: top;\n",
       "    }\n",
       "\n",
       "    .dataframe thead th {\n",
       "        text-align: right;\n",
       "    }\n",
       "</style>\n",
       "<table border=\"1\" class=\"dataframe\">\n",
       "  <thead>\n",
       "    <tr style=\"text-align: right;\">\n",
       "      <th></th>\n",
       "      <th>Recency</th>\n",
       "      <th>Frequency</th>\n",
       "      <th>Monetary_value</th>\n",
       "      <th>R_Quartile</th>\n",
       "      <th>F_Quartile</th>\n",
       "      <th>M_Quartile</th>\n",
       "      <th>RFMClass</th>\n",
       "    </tr>\n",
       "    <tr>\n",
       "      <th>CustomerID</th>\n",
       "      <th></th>\n",
       "      <th></th>\n",
       "      <th></th>\n",
       "      <th></th>\n",
       "      <th></th>\n",
       "      <th></th>\n",
       "      <th></th>\n",
       "    </tr>\n",
       "  </thead>\n",
       "  <tbody>\n",
       "    <tr>\n",
       "      <th>230</th>\n",
       "      <td>0</td>\n",
       "      <td>814</td>\n",
       "      <td>4.520184e+06</td>\n",
       "      <td>4</td>\n",
       "      <td>4</td>\n",
       "      <td>4</td>\n",
       "      <td>444</td>\n",
       "    </tr>\n",
       "    <tr>\n",
       "      <th>420</th>\n",
       "      <td>3</td>\n",
       "      <td>500</td>\n",
       "      <td>3.203069e+06</td>\n",
       "      <td>4</td>\n",
       "      <td>4</td>\n",
       "      <td>4</td>\n",
       "      <td>444</td>\n",
       "    </tr>\n",
       "    <tr>\n",
       "      <th>57</th>\n",
       "      <td>4</td>\n",
       "      <td>360</td>\n",
       "      <td>3.088991e+06</td>\n",
       "      <td>4</td>\n",
       "      <td>4</td>\n",
       "      <td>4</td>\n",
       "      <td>444</td>\n",
       "    </tr>\n",
       "    <tr>\n",
       "      <th>375</th>\n",
       "      <td>5</td>\n",
       "      <td>324</td>\n",
       "      <td>2.094873e+06</td>\n",
       "      <td>4</td>\n",
       "      <td>4</td>\n",
       "      <td>4</td>\n",
       "      <td>444</td>\n",
       "    </tr>\n",
       "    <tr>\n",
       "      <th>52</th>\n",
       "      <td>15</td>\n",
       "      <td>357</td>\n",
       "      <td>1.633506e+06</td>\n",
       "      <td>4</td>\n",
       "      <td>4</td>\n",
       "      <td>4</td>\n",
       "      <td>444</td>\n",
       "    </tr>\n",
       "  </tbody>\n",
       "</table>\n",
       "</div>"
      ],
      "text/plain": [
       "            Recency  Frequency  Monetary_value  R_Quartile  F_Quartile  \\\n",
       "CustomerID                                                               \n",
       "230               0        814    4.520184e+06           4           4   \n",
       "420               3        500    3.203069e+06           4           4   \n",
       "57                4        360    3.088991e+06           4           4   \n",
       "375               5        324    2.094873e+06           4           4   \n",
       "52               15        357    1.633506e+06           4           4   \n",
       "\n",
       "            M_Quartile RFMClass  \n",
       "CustomerID                       \n",
       "230                  4      444  \n",
       "420                  4      444  \n",
       "57                   4      444  \n",
       "375                  4      444  \n",
       "52                   4      444  "
      ]
     },
     "execution_count": 22,
     "metadata": {},
     "output_type": "execute_result"
    }
   ],
   "source": [
    "#best cust\n",
    "rfm_segment[rfm_segment['RFMClass']=='444'].sort_values('Monetary_value',ascending=False).head()"
   ]
  },
  {
   "cell_type": "markdown",
   "metadata": {},
   "source": [
    "Now, we have to identify some key segments.\n",
    "\n",
    "| Segment | RFM | Description |\n",
    "| :- | -: | :-: |\n",
    "| Best Customers | 444/344 | Customers who bought most recently, most often and spend the most\n",
    "| Loyal Customers | X4X | Customers who bought most recently\n",
    "| Big Spenders | X34 | Customers who spend the most\n",
    "| Need Attention | 3XX | Customers who bought recently, purchased not frequent but spend much\n",
    "| New Customers | 4XX | Customers who bought most recently, purchased not frequent or the first time\n",
    "| Potential Loyalist | X3X | Customers who bought recently, often and spend much\n",
    "| Almost Lost | 2X4 | Haven't purchased for some time and spend the most\n",
    "| Almost Lost Cheap Customers | 2X1 | Haven't purchased for some time and spend little\n",
    "| Lost Customers | 1X4 | Last purchase long ago and spend the most\n",
    "| Lost Cheap Customers | 1X1 | Last purchase long ago and spend little"
   ]
  },
  {
   "cell_type": "code",
   "execution_count": 23,
   "metadata": {},
   "outputs": [],
   "source": [
    "seg_map = {\n",
    "    r'1[1-4][1-2]': 'Lost Cheap Customers',\n",
    "    r'1[1-4][3-4]': 'Lost Customers',\n",
    "    r'2[1-4][1-2]': 'Almost Lost Cheap Customers',\n",
    "    r'2[1-4][3-4]': 'Almost Lost',\n",
    "    r'3[1-2][1-3]': 'Need Attention',\n",
    "    r'[3-4]4[1-3]': 'Loyal Customers',\n",
    "    r'[3-4][1-3]4': 'Big Spenders',\n",
    "    r'[3-4]3[1-3]': 'Potential Loyalists',\n",
    "    r'4[1-2][1-3]': 'New Customers',\n",
    "    r'[3-4]44': 'Best Customers'\n",
    "}"
   ]
  },
  {
   "cell_type": "code",
   "execution_count": 24,
   "metadata": {},
   "outputs": [
    {
     "data": {
      "text/html": [
       "<div>\n",
       "<style scoped>\n",
       "    .dataframe tbody tr th:only-of-type {\n",
       "        vertical-align: middle;\n",
       "    }\n",
       "\n",
       "    .dataframe tbody tr th {\n",
       "        vertical-align: top;\n",
       "    }\n",
       "\n",
       "    .dataframe thead th {\n",
       "        text-align: right;\n",
       "    }\n",
       "</style>\n",
       "<table border=\"1\" class=\"dataframe\">\n",
       "  <thead>\n",
       "    <tr style=\"text-align: right;\">\n",
       "      <th></th>\n",
       "      <th>Recency</th>\n",
       "      <th>Frequency</th>\n",
       "      <th>Monetary_value</th>\n",
       "      <th>R_Quartile</th>\n",
       "      <th>F_Quartile</th>\n",
       "      <th>M_Quartile</th>\n",
       "      <th>RFMClass</th>\n",
       "      <th>Segment</th>\n",
       "    </tr>\n",
       "    <tr>\n",
       "      <th>CustomerID</th>\n",
       "      <th></th>\n",
       "      <th></th>\n",
       "      <th></th>\n",
       "      <th></th>\n",
       "      <th></th>\n",
       "      <th></th>\n",
       "      <th></th>\n",
       "      <th></th>\n",
       "    </tr>\n",
       "  </thead>\n",
       "  <tbody>\n",
       "    <tr>\n",
       "      <th>0</th>\n",
       "      <td>7</td>\n",
       "      <td>37</td>\n",
       "      <td>263560.474577</td>\n",
       "      <td>4</td>\n",
       "      <td>4</td>\n",
       "      <td>4</td>\n",
       "      <td>444</td>\n",
       "      <td>Best Customers</td>\n",
       "    </tr>\n",
       "    <tr>\n",
       "      <th>1</th>\n",
       "      <td>735</td>\n",
       "      <td>13</td>\n",
       "      <td>20476.728814</td>\n",
       "      <td>2</td>\n",
       "      <td>3</td>\n",
       "      <td>3</td>\n",
       "      <td>233</td>\n",
       "      <td>Almost Lost</td>\n",
       "    </tr>\n",
       "    <tr>\n",
       "      <th>2</th>\n",
       "      <td>52</td>\n",
       "      <td>22</td>\n",
       "      <td>51963.711862</td>\n",
       "      <td>3</td>\n",
       "      <td>3</td>\n",
       "      <td>3</td>\n",
       "      <td>333</td>\n",
       "      <td>Potential Loyalists</td>\n",
       "    </tr>\n",
       "    <tr>\n",
       "      <th>3</th>\n",
       "      <td>625</td>\n",
       "      <td>1</td>\n",
       "      <td>300.847458</td>\n",
       "      <td>2</td>\n",
       "      <td>1</td>\n",
       "      <td>1</td>\n",
       "      <td>211</td>\n",
       "      <td>Almost Lost Cheap Customers</td>\n",
       "    </tr>\n",
       "    <tr>\n",
       "      <th>4</th>\n",
       "      <td>92</td>\n",
       "      <td>35</td>\n",
       "      <td>60977.720337</td>\n",
       "      <td>3</td>\n",
       "      <td>3</td>\n",
       "      <td>3</td>\n",
       "      <td>333</td>\n",
       "      <td>Potential Loyalists</td>\n",
       "    </tr>\n",
       "  </tbody>\n",
       "</table>\n",
       "</div>"
      ],
      "text/plain": [
       "            Recency  Frequency  Monetary_value  R_Quartile  F_Quartile  \\\n",
       "CustomerID                                                               \n",
       "0                 7         37   263560.474577           4           4   \n",
       "1               735         13    20476.728814           2           3   \n",
       "2                52         22    51963.711862           3           3   \n",
       "3               625          1      300.847458           2           1   \n",
       "4                92         35    60977.720337           3           3   \n",
       "\n",
       "            M_Quartile RFMClass                      Segment  \n",
       "CustomerID                                                    \n",
       "0                    4      444               Best Customers  \n",
       "1                    3      233                  Almost Lost  \n",
       "2                    3      333          Potential Loyalists  \n",
       "3                    1      211  Almost Lost Cheap Customers  \n",
       "4                    3      333          Potential Loyalists  "
      ]
     },
     "execution_count": 24,
     "metadata": {},
     "output_type": "execute_result"
    }
   ],
   "source": [
    "rfm_segment['Segment'] = rfm_segment['R_Quartile'].astype(str) + rfm_segment['F_Quartile'].astype(str) + rfm_segment['M_Quartile'].astype(str)\n",
    "rfm_segment['Segment'] = rfm_segment['Segment'].replace(seg_map, regex=True)\n",
    "rfm_segment.head()"
   ]
  },
  {
   "cell_type": "code",
   "execution_count": 25,
   "metadata": {},
   "outputs": [
    {
     "data": {
      "image/png": "[encoded data removed]",
      "text/plain": [
       "<Figure size 720x360 with 1 Axes>"
      ]
     },
     "metadata": {
      "needs_background": "light"
     },
     "output_type": "display_data"
    }
   ],
   "source": [
    "segment_count = rfm_segment.groupby('Segment')['Segment'].count()\n",
    "segment_count.plot(kind='bar', figsize=(10,5))\n",
    "plt.title('Segment')\n",
    "plt.show()"
   ]
  }
 ],
 "metadata": {
  "kernelspec": {
   "display_name": "Python 3",
   "language": "python",
   "name": "python3"
  },
  "language_info": {
   "codemirror_mode": {
    "name": "ipython",
    "version": 3
   },
   "file_extension": ".py",
   "mimetype": "text/x-python",
   "name": "python",
   "nbconvert_exporter": "python",
   "pygments_lexer": "ipython3",
   "version": "3.7.9"
  }
 },
 "nbformat": 4,
 "nbformat_minor": 4
}
